{
 "cells": [
  {
   "cell_type": "code",
   "execution_count": null,
   "metadata": {},
   "outputs": [],
   "source": [
    "library(sf)\n",
    "library(terra)\n",
    "library(leaflet)"
   ]
  },
  {
   "cell_type": "code",
   "execution_count": null,
   "metadata": {},
   "outputs": [],
   "source": [
    "KEN <- st_as_sf(raster::getData(\"GADM\", country=\"KEN\", level=1, path=getwd()), crs = 4326)\n",
    "polys <- KEN %>% \n",
    "  filter(NAME_1 %in% c(\"Nairobi\", \"Kiambu\", \"Machakos\", \"Murang'a\")) %>%\n",
    "  st_union()\n",
    "\n",
    "leaflet() %>%\n",
    "  addTiles() %>% # Add default OpenStreetMap map tiles\n",
    "  addPolygons(data = polys, weight = 2, fillColor = 'transparent', label = \"Central Kenya\")"
   ]
  },
  {
   "cell_type": "code",
   "execution_count": null,
   "metadata": {},
   "outputs": [],
   "source": [
    "weather.JSON <- rjson::fromJSON(file = \"POWER_Regional_Daily_20170201_20210207_74d3dbce.json\")\n",
    "weather.JSON <- enframe(unlist(weather.JSON))\n",
    "weather.JSON <- weather.JSON %>% \n",
    "  separate(name, into = c(paste0(\"name\", 1:5)), fill = \"right\") %>%\n",
    "  filter(name1 == \"features\" &\n",
    "           name2 == \"geometry\" &\n",
    "           name3 %in% c(\"coordinates1\", \"coordinates2\") |\n",
    "           (name1 == \"features\" &\n",
    "              name2 == \"properties\" &\n",
    "              name3 == \"parameter\")) %>%\n",
    "  select(name5, value)"
   ]
  }
 ],
 "metadata": {
  "kernelspec": {
   "display_name": "R",
   "language": "R",
   "name": "ir"
  },
  "language_info": {
   "codemirror_mode": "r",
   "file_extension": ".r",
   "mimetype": "text/x-r-source",
   "name": "R",
   "pygments_lexer": "r",
   "version": "3.6.3"
  }
 },
 "nbformat": 4,
 "nbformat_minor": 4
}

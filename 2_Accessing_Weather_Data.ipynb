{
 "cells": [
  {
   "cell_type": "code",
   "execution_count": null,
   "metadata": {},
   "outputs": [],
   "source": [
    "library(tidyverse)\n",
    "library(osmdata)\n",
    "library(sf)\n",
    "library(terra)\n",
    "library(leaflet)"
   ]
  },
  {
   "cell_type": "code",
   "execution_count": null,
   "metadata": {},
   "outputs": [],
   "source": [
    "# Get Kiambu\n",
    "kmb <- opq(bbox = 'Kiambu KE') %>%\n",
    "  add_osm_feature(key = 'name', value = \"Kiambu\", value_exact = T) %>%\n",
    "  add_osm_feature(key = 'admin_level', value = \"4\", value_exact = T) %>%\n",
    "  osmdata_sf()\n",
    "# Get Nairobi\n",
    "nrb <- opq(bbox = 'Nairobi KE') %>%\n",
    "  add_osm_feature(key = 'name', value = \"Nairobi\", value_exact = T) %>%\n",
    "  add_osm_feature(key = 'admin_level', value = \"4\", value_exact = T) %>%\n",
    "  osmdata_sf()\n",
    "# Merge Kiambu & Nairobi\n",
    "aoi <- st_union(kmb$osm_multipolygons, nrb$osm_multipolygons)\n",
    "# Plot the AOI\n",
    "leaflet() %>%\n",
    "  addTiles() %>%\n",
    "  addPolygons(data = aoi$geometry, weight = 2, fillColor = NULL)"
   ]
  },
  {
   "cell_type": "code",
   "execution_count": null,
   "metadata": {},
   "outputs": [],
   "source": [
    "## Get NASA's weather data (downloaded from CG Labs using NASA POWER API)\n",
    "weather.JSON <- rjson::fromJSON(file = \"POWER_Regional_Daily_20170201_20210207_74d3dbce.json\")\n",
    "## Start formatting the JSON data\n",
    "weather.JSON <- enframe(unlist(weather.JSON))\n",
    "## Begin formatting the JSON data\n",
    "weather.JSON <- weather.JSON %>% \n",
    "  separate(name, into = c(paste0(\"name\", 1:5)), fill = \"right\") %>%\n",
    "  ## Here filter columns containing the following strings\n",
    "  filter(name1 == \"features\" &\n",
    "           name2 == \"geometry\" &\n",
    "           name3 %in% c(\"coordinates1\", \"coordinates2\") |\n",
    "           (name1 == \"features\" &\n",
    "              name2 == \"properties\" &\n",
    "              name3 == \"parameter\")) %>%\n",
    "  ## Only keep these two columns\n",
    "  select(name5, value)\n",
    "## Create new columns\n",
    "weather.JSON <- weather.JSON %>%\n",
    "  mutate(lat = if_else(is.na(name5), as.numeric(value), as.numeric(NA))) %>%\n",
    "  mutate(lng = if_else(is.na(name5), as.numeric(lag(value, n = 1L)), as.numeric(NA))) %>% # Use the cell above as Longitude... This has to do with the way the JSON is structured\n",
    "  mutate(date = if_else(is.na(name5), as.Date(NA), as.Date(name5, \"%Y%m%d\"))) %>% # Format the dates\n",
    "  mutate(t2m = if_else(is.na(name5), as.numeric(NA), as.numeric(value))) %>% # Extract the measured values\n",
    "  select(lat, lng, date, t2m) %>%\n",
    "  filter(!is.na(lat) & !is.na(lng) |\n",
    "           (!is.na(date) & !is.na(t2m)))\n",
    "## This removes stand alone coordinates (only X or XY) without T2M values\n",
    "while(length(ind <- which(is.na(weather.JSON$lat))) > 0){\n",
    "  weather.JSON$lat[ind] <- weather.JSON$lat[ind -1]\n",
    "}\n",
    "while(length(ind <- which(is.na(weather.JSON$lng))) > 0){\n",
    "  weather.JSON$lng[ind] <- weather.JSON$lng[ind -1]\n",
    "}\n",
    "## Remove empty rows without T2M values\n",
    "weather.JSON <- weather.JSON %>%\n",
    "  filter(!is.na(date) & !is.na(t2m))\n",
    "## Create an sf object and assign CRS\n",
    "weather.JSON <- st_as_sf(weather.JSON, coords = c(\"lng\", \"lat\"), crs = 4326)"
   ]
  },
  {
   "cell_type": "code",
   "execution_count": null,
   "metadata": {},
   "outputs": [],
   "source": [
    "## Subset the data and start preparing for a RasterStack\n",
    "sep2017Weather <- weather.JSON1 %>%\n",
    "  filter(date > '2017-09-01' & date < '2017-10-04')\n",
    "## From long-format table to wide-format table\n",
    "sep2017Weather <- sep2017Weather %>%\n",
    "  spread(date, t2m)\n",
    "## Re-format column labels\n",
    "colnames(sep2017Weather) <- gsub('-', '_', colnames(sep2017Weather), fixed=TRUE)\n",
    "## Create RasterStack\n",
    "st <- raster::stack()\n",
    "for(i in names(sep2017Weather)[!grepl(\"['geometry]\", names(sep2017Weather))]){\n",
    "  vals <- pull(sep2017Weather, i)\n",
    "  ras <- raster::rasterize(sep2017Weather, raster::raster(), vals)\n",
    "  st <- raster::stack(st,ras)\n",
    "  remove(vals,ras)\n",
    "}"
   ]
  }
 ],
 "metadata": {
  "kernelspec": {
   "display_name": "R",
   "language": "R",
   "name": "ir"
  },
  "language_info": {
   "codemirror_mode": "r",
   "file_extension": ".r",
   "mimetype": "text/x-r-source",
   "name": "R",
   "pygments_lexer": "r",
   "version": "3.6.3"
  }
 },
 "nbformat": 4,
 "nbformat_minor": 4
}

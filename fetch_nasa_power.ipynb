{
 "cells": [
  {
   "cell_type": "markdown",
   "metadata": {},
   "source": [
    "# **Fetch NASA POWER API data in JSON format and pass it to table, point and raster**\n",
    "## CG Labs | Excellence in Agronomy Initiative\n",
    "#### egbendito 2021"
   ]
  },
  {
   "cell_type": "markdown",
   "metadata": {},
   "source": [
    "### **1. Download NASA's POWER data using CG Labs Weather Data Tool**\n",
    "### ![](video1.gif)"
   ]
  },
  {
   "cell_type": "markdown",
   "metadata": {},
   "source": [
    "### **2. Load the necessary functions from directory files**"
   ]
  },
  {
   "cell_type": "code",
   "execution_count": null,
   "metadata": {},
   "outputs": [],
   "source": [
    "source(\"json2output.R\")"
   ]
  },
  {
   "cell_type": "markdown",
   "metadata": {},
   "source": [
    "### **3. Run a function with the necessary inputs**\n",
    "*For example, format the JSON into tabular data:*"
   ]
  },
  {
   "cell_type": "code",
   "execution_count": null,
   "metadata": {},
   "outputs": [],
   "source": [
    "dtbl <- f_tblR.JSON('POWER_Regional_Daily_20200601_20200731_9f776877.json')\n",
    "head(dtbl)"
   ]
  },
  {
   "cell_type": "markdown",
   "metadata": {},
   "source": [
    "*Or get the a multi-band raster at the desired resolution:*"
   ]
  },
  {
   "cell_type": "code",
   "execution_count": null,
   "metadata": {},
   "outputs": [],
   "source": [
    "dras <- f_data.Cube(\"POWER_Regional_Daily_20200601_20200731_9f776877.json\", 0.00833)"
   ]
  }
 ],
 "metadata": {
  "kernelspec": {
   "display_name": "R",
   "language": "R",
   "name": "ir"
  },
  "language_info": {
   "codemirror_mode": "r",
   "file_extension": ".r",
   "mimetype": "text/x-r-source",
   "name": "R",
   "pygments_lexer": "r",
   "version": "3.6.3"
  }
 },
 "nbformat": 4,
 "nbformat_minor": 4
}

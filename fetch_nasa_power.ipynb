{
 "cells": [
  {
   "cell_type": "markdown",
   "metadata": {},
   "source": [
    "# **Fetch NASA POWER API data in JSON format and pass it to table, point and raster**\n",
    "## CG Labs | Excellence in Agronomy Initiative\n",
    "#### egbendito 2021"
   ]
  },
  {
   "cell_type": "markdown",
   "metadata": {},
   "source": [
    "### **1. Download NASA's POWER data using CG Labs Weather Data Tool**\n",
    "### ![](video1.gif)"
   ]
  },
  {
   "cell_type": "markdown",
   "metadata": {},
   "source": [
    "### **2. Load the necessary functions from directory files**"
   ]
  },
  {
   "cell_type": "code",
   "execution_count": null,
   "metadata": {},
   "outputs": [],
   "source": [
    "source(\"json2output.R\")"
   ]
  },
  {
   "cell_type": "markdown",
   "metadata": {},
   "source": [
    "### **3. Run a function with the necessary inputs**\n",
    "*For example, format the JSON into tabular data:*"
   ]
  },
  {
   "cell_type": "code",
   "execution_count": null,
   "metadata": {},
   "outputs": [],
   "source": [
    "dtbl <- f_tblR.JSON('POWER_Regional_Daily_20200601_20200731_9f776877.json')\n",
    "head(dtbl)"
   ]
  },
  {
   "cell_type": "markdown",
   "metadata": {},
   "source": [
    "*Or, get the a multi-band raster at the desired resolution:*"
   ]
  },
  {
   "cell_type": "code",
   "execution_count": null,
   "metadata": {},
   "outputs": [],
   "source": [
    "dras <- f_data.Cube(\"POWER_Regional_Daily_20200601_20200731_9f776877.json\", 0.00833)"
   ]
  },
  {
   "cell_type": "markdown",
   "metadata": {},
   "source": [
    "*Alternatively, get  list with all the data formats:*"
   ]
  },
  {
   "cell_type": "code",
   "execution_count": null,
   "metadata": {},
   "outputs": [],
   "source": [
    "d <- f_all.data('POWER_Regional_Daily_20200601_20200731_9f776877.json', 0.0833)"
   ]
  },
  {
   "cell_type": "markdown",
   "metadata": {},
   "source": [
    "### **4. Visualize the results:**"
   ]
  },
  {
   "cell_type": "code",
   "execution_count": null,
   "metadata": {},
   "outputs": [],
   "source": [
    "library(osmdata)\n",
    "## Get Kiambu data\n",
    "kmb <- opq(bbox = 'Kiambu KE', timeout = 25*10) %>%\n",
    "  add_osm_feature(key = 'name', value = \"Kiambu\", value_exact = T) %>%\n",
    "  add_osm_feature(key = 'admin_level', value = \"4\", value_exact = T) %>%\n",
    "  osmdata_sf()\n",
    "## Get Nairobi Data\n",
    "nrb <- opq(bbox = 'Nairobi KE', timeout = 25*10) %>%\n",
    "  add_osm_feature(key = 'name', value = \"Nairobi\", value_exact = T) %>%\n",
    "  add_osm_feature(key = 'admin_level', value = \"4\", value_exact = T) %>%\n",
    "  osmdata_sf()\n",
    "## UNION both and create a new AOI\n",
    "aoi <- st_union(kmb$osm_multipolygons, nrb$osm_multipolygons, crs = 4326)\n",
    "\n",
    "library(leaflet)\n",
    "## Plot on Leaflet\n",
    "leaflet() %>%\n",
    "  addTiles() %>% # Add default OpenStreetMap map tiles\n",
    "  # addRasterImage(raster(full.dataset$datacube[[1]]), colors = rev(terrain.colors(10)), opacity = 0.8, project = FALSE) %>%\n",
    "  addRasterImage(mask(raster(full.dataset$datacube[[1]]), st_as_sf(aoi$geometry)),\n",
    "                 colors = rev(terrain.colors(10)), opacity = 0.8, project = FALSE) %>%\n",
    "  addPolygons(data = aoi$geometry, weight = 2, fillColor = 'transparent')"
   ]
  }
 ],
 "metadata": {
  "kernelspec": {
   "display_name": "R",
   "language": "R",
   "name": "ir"
  },
  "language_info": {
   "codemirror_mode": "r",
   "file_extension": ".r",
   "mimetype": "text/x-r-source",
   "name": "R",
   "pygments_lexer": "r",
   "version": "3.6.3"
  }
 },
 "nbformat": 4,
 "nbformat_minor": 4
}

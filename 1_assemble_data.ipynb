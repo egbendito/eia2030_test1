{
 "cells": [
  {
   "cell_type": "code",
   "execution_count": null,
   "metadata": {},
   "outputs": [],
   "source": [
    "library(osmdata)\n",
    "library(raster)\n",
    "library(terra)\n",
    "library(leaflet)"
   ]
  },
  {
   "cell_type": "code",
   "execution_count": null,
   "metadata": {},
   "outputs": [],
   "source": [
    "nairobiNP <- opq (\"Nairobi Kenya\", timeout = 25*100) %>%\n",
    "  add_osm_feature(\"name\", \"Nairobi National Park\") %>%\n",
    "  osmdata_sp()\n",
    "\n",
    "nNP <- nairobiNP$osm_polygons"
   ]
  },
  {
   "cell_type": "code",
   "execution_count": null,
   "metadata": {},
   "outputs": [],
   "source": [
    "bdod <- raster(\"2-9-2021_10-01_AM_bdod_5-15cm_mean.vrt\")\n",
    "ext(nNP)\n",
    "ext(bdod)\n",
    "summary(nNP)\n",
    "summary(bdod)\n",
    "# plot(bdod)\n",
    "# bdod.nNP <- mask(bdod, nNP)\n",
    "# ext(bdod.nNP)"
   ]
  },
  {
   "cell_type": "code",
   "execution_count": null,
   "metadata": {},
   "outputs": [],
   "source": [
    "leaflet() %>%\n",
    "  addTiles() %>% # Add default OpenStreetMap map tiles\n",
    "  addPolygons(data = nNP, weight = 2, fillColor = NULL)"
   ]
  },
  {
   "cell_type": "code",
   "execution_count": null,
   "metadata": {},
   "outputs": [],
   "source": []
  }
 ],
 "metadata": {
  "kernelspec": {
   "display_name": "R",
   "language": "R",
   "name": "ir"
  },
  "language_info": {
   "codemirror_mode": "r",
   "file_extension": ".r",
   "mimetype": "text/x-r-source",
   "name": "R",
   "pygments_lexer": "r",
   "version": "3.6.3"
  }
 },
 "nbformat": 4,
 "nbformat_minor": 4
}

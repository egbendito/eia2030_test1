{
 "cells": [
  {
   "cell_type": "code",
   "execution_count": 17,
   "metadata": {},
   "outputs": [],
   "source": [
    "library(osmdata)\n",
    "library(raster)\n",
    "library(terra)\n",
    "library(leaflet)"
   ]
  },
  {
   "cell_type": "code",
   "execution_count": 18,
   "metadata": {},
   "outputs": [],
   "source": [
    "nairobiNP <- opq (\"Nairobi Kenya\", timeout = 25*100) %>%\n",
    "  add_osm_feature(\"name\", \"Nairobi National Park\") %>%\n",
    "  osmdata_sp()\n",
    "\n",
    "nNP <- nairobiNP$osm_polygons"
   ]
  },
  {
   "cell_type": "code",
   "execution_count": 25,
   "metadata": {},
   "outputs": [
    {
     "data": {
      "text/plain": [
       "SpatExtent : 36.7620136, 36.9300025, -1.423142, -1.3271161 (xmin, xmax, ymin, ymax)"
      ]
     },
     "metadata": {},
     "output_type": "display_data"
    },
    {
     "data": {
      "text/plain": [
       "SpatExtent : -19949000, 19861750, -6147500, 8361000 (xmin, xmax, ymin, ymax)"
      ]
     },
     "metadata": {},
     "output_type": "display_data"
    },
    {
     "data": {
      "text/plain": [
       "Object of class SpatialPolygonsDataFrame\n",
       "Coordinates:\n",
       "        min       max\n",
       "x 36.762014 36.930003\n",
       "y -1.423142 -1.327116\n",
       "Is projected: FALSE \n",
       "proj4string :\n",
       "[+proj=longlat +ellps=WGS84 +datum=WGS84 +no_defs +towgs84=0,0,0]\n",
       "Data attributes:\n",
       "      osm_id                     name             boundary           leisure \n",
       " 25540984:1   Nairobi National Park:1   protected_area:1   nature_reserve:1  \n",
       "              name:ko  protect_class      protection_title\n",
       " 나이로비 국립공원:1   2:1           national_park:1      \n",
       "                                             website     wikidata\n",
       " http://www.kws.go.ke/parks/nairobi-national-park:1   Q739993:1  \n",
       "                    wikipedia\n",
       " en:Nairobi National Park:1  "
      ]
     },
     "metadata": {},
     "output_type": "display_data"
    },
    {
     "ename": "ERROR",
     "evalue": "Error in rgdal::getRasterData(con, offset = offs, region.dim = c(1, nc), : Failure during raster IO\n\n",
     "output_type": "error",
     "traceback": [
      "Error in rgdal::getRasterData(con, offset = offs, region.dim = c(1, nc), : Failure during raster IO\n\nTraceback:\n",
      "1. summary(bdod)",
      "2. summary(bdod)",
      "3. .local(object, ...)",
      "4. sampleRegular(object, maxsamp)",
      "5. sampleRegular(object, maxsamp)",
      "6. .local(x, size, ...)",
      "7. cbind(m, .cellValues(x, cell))",
      "8. .cellValues(x, cell)",
      "9. .readCells(x, cells, 1)",
      "10. .readCellsGDAL(x, uniquecells, layers)",
      "11. rgdal::getRasterData(con, offset = offs, region.dim = c(1, nc), \n  .     band = layers)"
     ]
    }
   ],
   "source": [
    "bdod <- raster(\"2-9-2021_10-01_AM_bdod_5-15cm_mean.vrt\")\n",
    "ext(nNP)\n",
    "ext(bdod)\n",
    "summary(nNP)\n",
    "summary(bdod)\n",
    "# plot(bdod)\n",
    "# bdod.nNP <- mask(bdod, nNP)\n",
    "# ext(bdod.nNP)"
   ]
  },
  {
   "cell_type": "code",
   "execution_count": null,
   "metadata": {},
   "outputs": [],
   "source": [
    "leaflet() %>%\n",
    "  addTiles() %>% # Add default OpenStreetMap map tiles\n",
    "  addPolygons(data = nNP, weight = 2, fillColor = NULL)"
   ]
  },
  {
   "cell_type": "code",
   "execution_count": null,
   "metadata": {},
   "outputs": [],
   "source": []
  }
 ],
 "metadata": {
  "kernelspec": {
   "display_name": "R",
   "language": "R",
   "name": "ir"
  },
  "language_info": {
   "codemirror_mode": "r",
   "file_extension": ".r",
   "mimetype": "text/x-r-source",
   "name": "R",
   "pygments_lexer": "r",
   "version": "3.6.3"
  }
 },
 "nbformat": 4,
 "nbformat_minor": 4
}
